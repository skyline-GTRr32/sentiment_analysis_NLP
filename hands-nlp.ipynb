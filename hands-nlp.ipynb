{
 "cells": [
  {
   "cell_type": "code",
   "execution_count": 3,
   "id": "03ab52bd",
   "metadata": {},
   "outputs": [
    {
     "name": "stderr",
     "output_type": "stream",
     "text": [
      "[nltk_data] Downloading package stopwords to /home/okki/nltk_data...\n",
      "[nltk_data]   Unzipping corpora/stopwords.zip.\n",
      "[nltk_data] Downloading package punkt to /home/okki/nltk_data...\n",
      "[nltk_data]   Unzipping tokenizers/punkt.zip.\n",
      "[nltk_data] Downloading package punkt_tab to /home/okki/nltk_data...\n",
      "[nltk_data]   Unzipping tokenizers/punkt_tab.zip.\n"
     ]
    },
    {
     "data": {
      "text/plain": [
       "True"
      ]
     },
     "execution_count": 3,
     "metadata": {},
     "output_type": "execute_result"
    }
   ],
   "source": [
    "import nltk\n",
    "nltk.download('stopwords')\n",
    "nltk.download('punkt')\n",
    "nltk.download('punkt_tab')"
   ]
  },
  {
   "cell_type": "code",
   "execution_count": 9,
   "id": "80df12ab",
   "metadata": {},
   "outputs": [],
   "source": [
    "import pandas as pd     \n",
    "import re   \n",
    "from nltk.corpus import stopwords\n",
    "from nltk.tokenize import word_tokenize"
   ]
  },
  {
   "cell_type": "code",
   "execution_count": 10,
   "id": "3eb7c4ad",
   "metadata": {},
   "outputs": [
    {
     "name": "stdout",
     "output_type": "stream",
     "text": [
      "Collecting en-core-web-sm==3.8.0\n",
      "  Downloading https://github.com/explosion/spacy-models/releases/download/en_core_web_sm-3.8.0/en_core_web_sm-3.8.0-py3-none-any.whl (12.8 MB)\n",
      "     ━━━━━━━━━━━━━━━━━━━━━━━━━━━━━━━━━━━━━━━━ 12.8/12.8 MB 8.0 MB/s eta 0:00:00\n",
      "\u001b[38;5;2m✔ Download and installation successful\u001b[0m\n",
      "You can now load the package via spacy.load('en_core_web_sm')\n",
      "\u001b[38;5;3m⚠ Restart to reload dependencies\u001b[0m\n",
      "If you are in a Jupyter or Colab notebook, you may need to restart Python in\n",
      "order to load all the package's dependencies. You can do this by selecting the\n",
      "'Restart kernel' or 'Restart runtime' option.\n"
     ]
    }
   ],
   "source": [
    "import spacy\n",
    "spacy.cli.download(\"en_core_web_sm\")        \n",
    "nlp = spacy.load(\"en_core_web_sm\")"
   ]
  },
  {
   "cell_type": "code",
   "execution_count": 12,
   "id": "cca9b9ec",
   "metadata": {},
   "outputs": [
    {
     "name": "stdout",
     "output_type": "stream",
     "text": [
      "First five rows of dataset:\n"
     ]
    },
    {
     "data": {
      "text/html": [
       "<div>\n",
       "<style scoped>\n",
       "    .dataframe tbody tr th:only-of-type {\n",
       "        vertical-align: middle;\n",
       "    }\n",
       "\n",
       "    .dataframe tbody tr th {\n",
       "        vertical-align: top;\n",
       "    }\n",
       "\n",
       "    .dataframe thead th {\n",
       "        text-align: right;\n",
       "    }\n",
       "</style>\n",
       "<table border=\"1\" class=\"dataframe\">\n",
       "  <thead>\n",
       "    <tr style=\"text-align: right;\">\n",
       "      <th></th>\n",
       "      <th>review</th>\n",
       "      <th>sentiment</th>\n",
       "    </tr>\n",
       "  </thead>\n",
       "  <tbody>\n",
       "    <tr>\n",
       "      <th>0</th>\n",
       "      <td>One of the other reviewers has mentioned that after watching just 1 Oz episode you'll be hooked. They are right, as this is exactly what happened with me.&lt;br /&gt;&lt;br /&gt;The first thing that struck me about Oz was its brutality and unflinching scenes of violence, which set in right from the word GO. Trust me, this is not a show for the faint hearted or timid. This show pulls no punches with regards to drugs, sex or violence. Its is hardcore, in the classic use of the word.&lt;br /&gt;&lt;br /&gt;It is called OZ as that is the nickname given to the Oswald Maximum Security State Penitentary. It focuses mainly on Emerald City, an experimental section of the prison where all the cells have glass fronts and face inwards, so privacy is not high on the agenda. Em City is home to many..Aryans, Muslims, gangstas, Latinos, Christians, Italians, Irish and more....so scuffles, death stares, dodgy dealings and shady agreements are never far away.&lt;br /&gt;&lt;br /&gt;I would say the main appeal of the show is due to the fact that it goes where other shows wouldn't dare. Forget pretty pictures painted for mainstream audiences, forget charm, forget romance...OZ doesn't mess around. The first episode I ever saw struck me as so nasty it was surreal, I couldn't say I was ready for it, but as I watched more, I developed a taste for Oz, and got accustomed to the high levels of graphic violence. Not just violence, but injustice (crooked guards who'll be sold out for a nickel, inmates who'll kill on order and get away with it, well mannered, middle class inmates being turned into prison bitches due to their lack of street skills or prison experience) Watching Oz, you may become comfortable with what is uncomfortable viewing....thats if you can get in touch with your darker side.</td>\n",
       "      <td>positive</td>\n",
       "    </tr>\n",
       "    <tr>\n",
       "      <th>1</th>\n",
       "      <td>A wonderful little production. &lt;br /&gt;&lt;br /&gt;The filming technique is very unassuming- very old-time-BBC fashion and gives a comforting, and sometimes discomforting, sense of realism to the entire piece. &lt;br /&gt;&lt;br /&gt;The actors are extremely well chosen- Michael Sheen not only \"has got all the polari\" but he has all the voices down pat too! You can truly see the seamless editing guided by the references to Williams' diary entries, not only is it well worth the watching but it is a terrificly written and performed piece. A masterful production about one of the great master's of comedy and his life. &lt;br /&gt;&lt;br /&gt;The realism really comes home with the little things: the fantasy of the guard which, rather than use the traditional 'dream' techniques remains solid then disappears. It plays on our knowledge and our senses, particularly with the scenes concerning Orton and Halliwell and the sets (particularly of their flat with Halliwell's murals decorating every surface) are terribly well done.</td>\n",
       "      <td>positive</td>\n",
       "    </tr>\n",
       "    <tr>\n",
       "      <th>2</th>\n",
       "      <td>I thought this was a wonderful way to spend time on a too hot summer weekend, sitting in the air conditioned theater and watching a light-hearted comedy. The plot is simplistic, but the dialogue is witty and the characters are likable (even the well bread suspected serial killer). While some may be disappointed when they realize this is not Match Point 2: Risk Addiction, I thought it was proof that Woody Allen is still fully in control of the style many of us have grown to love.&lt;br /&gt;&lt;br /&gt;This was the most I'd laughed at one of Woody's comedies in years (dare I say a decade?). While I've never been impressed with Scarlet Johanson, in this she managed to tone down her \"sexy\" image and jumped right into a average, but spirited young woman.&lt;br /&gt;&lt;br /&gt;This may not be the crown jewel of his career, but it was wittier than \"Devil Wears Prada\" and more interesting than \"Superman\" a great comedy to go see with friends.</td>\n",
       "      <td>positive</td>\n",
       "    </tr>\n",
       "    <tr>\n",
       "      <th>3</th>\n",
       "      <td>Basically there's a family where a little boy (Jake) thinks there's a zombie in his closet &amp; his parents are fighting all the time.&lt;br /&gt;&lt;br /&gt;This movie is slower than a soap opera... and suddenly, Jake decides to become Rambo and kill the zombie.&lt;br /&gt;&lt;br /&gt;OK, first of all when you're going to make a film you must Decide if its a thriller or a drama! As a drama the movie is watchable. Parents are divorcing &amp; arguing like in real life. And then we have Jake with his closet which totally ruins all the film! I expected to see a BOOGEYMAN similar movie, and instead i watched a drama with some meaningless thriller spots.&lt;br /&gt;&lt;br /&gt;3 out of 10 just for the well playing parents &amp; descent dialogs. As for the shots with Jake: just ignore them.</td>\n",
       "      <td>negative</td>\n",
       "    </tr>\n",
       "    <tr>\n",
       "      <th>4</th>\n",
       "      <td>Petter Mattei's \"Love in the Time of Money\" is a visually stunning film to watch. Mr. Mattei offers us a vivid portrait about human relations. This is a movie that seems to be telling us what money, power and success do to people in the different situations we encounter. &lt;br /&gt;&lt;br /&gt;This being a variation on the Arthur Schnitzler's play about the same theme, the director transfers the action to the present time New York where all these different characters meet and connect. Each one is connected in one way, or another to the next person, but no one seems to know the previous point of contact. Stylishly, the film has a sophisticated luxurious look. We are taken to see how these people live and the world they live in their own habitat.&lt;br /&gt;&lt;br /&gt;The only thing one gets out of all these souls in the picture is the different stages of loneliness each one inhabits. A big city is not exactly the best place in which human relations find sincere fulfillment, as one discerns is the case with most of the people we encounter.&lt;br /&gt;&lt;br /&gt;The acting is good under Mr. Mattei's direction. Steve Buscemi, Rosario Dawson, Carol Kane, Michael Imperioli, Adrian Grenier, and the rest of the talented cast, make these characters come alive.&lt;br /&gt;&lt;br /&gt;We wish Mr. Mattei good luck and await anxiously for his next work.</td>\n",
       "      <td>positive</td>\n",
       "    </tr>\n",
       "  </tbody>\n",
       "</table>\n",
       "</div>"
      ],
      "text/plain": [
       "                                                                                                                                                                                                                                                                                                                                                                                                                                                                                                                                                                                                                                                                                                                                                                                                                                                                                                                                                                                                                                                                                                                                                                                                                                                                                                                                                                                                                                                                                                                                                                                                                                                                                                                                                                                                                              review  \\\n",
       "0  One of the other reviewers has mentioned that after watching just 1 Oz episode you'll be hooked. They are right, as this is exactly what happened with me.<br /><br />The first thing that struck me about Oz was its brutality and unflinching scenes of violence, which set in right from the word GO. Trust me, this is not a show for the faint hearted or timid. This show pulls no punches with regards to drugs, sex or violence. Its is hardcore, in the classic use of the word.<br /><br />It is called OZ as that is the nickname given to the Oswald Maximum Security State Penitentary. It focuses mainly on Emerald City, an experimental section of the prison where all the cells have glass fronts and face inwards, so privacy is not high on the agenda. Em City is home to many..Aryans, Muslims, gangstas, Latinos, Christians, Italians, Irish and more....so scuffles, death stares, dodgy dealings and shady agreements are never far away.<br /><br />I would say the main appeal of the show is due to the fact that it goes where other shows wouldn't dare. Forget pretty pictures painted for mainstream audiences, forget charm, forget romance...OZ doesn't mess around. The first episode I ever saw struck me as so nasty it was surreal, I couldn't say I was ready for it, but as I watched more, I developed a taste for Oz, and got accustomed to the high levels of graphic violence. Not just violence, but injustice (crooked guards who'll be sold out for a nickel, inmates who'll kill on order and get away with it, well mannered, middle class inmates being turned into prison bitches due to their lack of street skills or prison experience) Watching Oz, you may become comfortable with what is uncomfortable viewing....thats if you can get in touch with your darker side.   \n",
       "1                                                                                                                                                                                                                                                                                                                                                                                                                                                                                                                                                                                                                                                                                                                                                                                             A wonderful little production. <br /><br />The filming technique is very unassuming- very old-time-BBC fashion and gives a comforting, and sometimes discomforting, sense of realism to the entire piece. <br /><br />The actors are extremely well chosen- Michael Sheen not only \"has got all the polari\" but he has all the voices down pat too! You can truly see the seamless editing guided by the references to Williams' diary entries, not only is it well worth the watching but it is a terrificly written and performed piece. A masterful production about one of the great master's of comedy and his life. <br /><br />The realism really comes home with the little things: the fantasy of the guard which, rather than use the traditional 'dream' techniques remains solid then disappears. It plays on our knowledge and our senses, particularly with the scenes concerning Orton and Halliwell and the sets (particularly of their flat with Halliwell's murals decorating every surface) are terribly well done.   \n",
       "2                                                                                                                                                                                                                                                                                                                                                                                                                                                                                                                                                                                                                                                                                                                                                                                                                                                                     I thought this was a wonderful way to spend time on a too hot summer weekend, sitting in the air conditioned theater and watching a light-hearted comedy. The plot is simplistic, but the dialogue is witty and the characters are likable (even the well bread suspected serial killer). While some may be disappointed when they realize this is not Match Point 2: Risk Addiction, I thought it was proof that Woody Allen is still fully in control of the style many of us have grown to love.<br /><br />This was the most I'd laughed at one of Woody's comedies in years (dare I say a decade?). While I've never been impressed with Scarlet Johanson, in this she managed to tone down her \"sexy\" image and jumped right into a average, but spirited young woman.<br /><br />This may not be the crown jewel of his career, but it was wittier than \"Devil Wears Prada\" and more interesting than \"Superman\" a great comedy to go see with friends.   \n",
       "3                                                                                                                                                                                                                                                                                                                                                                                                                                                                                                                                                                                                                                                                                                                                                                                                                                                                                                                                                                                                                                                       Basically there's a family where a little boy (Jake) thinks there's a zombie in his closet & his parents are fighting all the time.<br /><br />This movie is slower than a soap opera... and suddenly, Jake decides to become Rambo and kill the zombie.<br /><br />OK, first of all when you're going to make a film you must Decide if its a thriller or a drama! As a drama the movie is watchable. Parents are divorcing & arguing like in real life. And then we have Jake with his closet which totally ruins all the film! I expected to see a BOOGEYMAN similar movie, and instead i watched a drama with some meaningless thriller spots.<br /><br />3 out of 10 just for the well playing parents & descent dialogs. As for the shots with Jake: just ignore them.   \n",
       "4                                                                                                                                                                                                                                                                                                                                                                                                                                                              Petter Mattei's \"Love in the Time of Money\" is a visually stunning film to watch. Mr. Mattei offers us a vivid portrait about human relations. This is a movie that seems to be telling us what money, power and success do to people in the different situations we encounter. <br /><br />This being a variation on the Arthur Schnitzler's play about the same theme, the director transfers the action to the present time New York where all these different characters meet and connect. Each one is connected in one way, or another to the next person, but no one seems to know the previous point of contact. Stylishly, the film has a sophisticated luxurious look. We are taken to see how these people live and the world they live in their own habitat.<br /><br />The only thing one gets out of all these souls in the picture is the different stages of loneliness each one inhabits. A big city is not exactly the best place in which human relations find sincere fulfillment, as one discerns is the case with most of the people we encounter.<br /><br />The acting is good under Mr. Mattei's direction. Steve Buscemi, Rosario Dawson, Carol Kane, Michael Imperioli, Adrian Grenier, and the rest of the talented cast, make these characters come alive.<br /><br />We wish Mr. Mattei good luck and await anxiously for his next work.   \n",
       "\n",
       "  sentiment  \n",
       "0  positive  \n",
       "1  positive  \n",
       "2  positive  \n",
       "3  negative  \n",
       "4  positive  "
      ]
     },
     "metadata": {},
     "output_type": "display_data"
    }
   ],
   "source": [
    "pd.set_option('display.max_colwidth',None)  \n",
    "try:    \n",
    "    df = pd.read_csv('IMDB Dataset.csv')   \n",
    "except FileNotFoundError:   \n",
    "    print(\"Error : DATASET NOT FOUND\")      \n",
    "\n",
    "print(\"First five rows of dataset:\")    \n",
    "display(df.head())"
   ]
  },
  {
   "cell_type": "code",
   "execution_count": 14,
   "id": "346e00ed",
   "metadata": {},
   "outputs": [
    {
     "name": "stdout",
     "output_type": "stream",
     "text": [
      "dataset info\n",
      "<class 'pandas.core.frame.DataFrame'>\n",
      "RangeIndex: 50000 entries, 0 to 49999\n",
      "Data columns (total 2 columns):\n",
      " #   Column     Non-Null Count  Dtype \n",
      "---  ------     --------------  ----- \n",
      " 0   review     50000 non-null  object\n",
      " 1   sentiment  50000 non-null  object\n",
      "dtypes: object(2)\n",
      "memory usage: 781.4+ KB\n"
     ]
    }
   ],
   "source": [
    "print(\"dataset info\")   \n",
    "df.info(    \n",
    "    \n",
    ")"
   ]
  },
  {
   "cell_type": "code",
   "execution_count": 15,
   "id": "6209180a",
   "metadata": {},
   "outputs": [
    {
     "name": "stdout",
     "output_type": "stream",
     "text": [
      "sentiment distribution\n",
      "sentiment\n",
      "positive    25000\n",
      "negative    25000\n",
      "Name: count, dtype: int64\n"
     ]
    }
   ],
   "source": [
    "print(\"sentiment distribution\") \n",
    "print(df['sentiment'].value_counts())"
   ]
  },
  {
   "cell_type": "code",
   "execution_count": 21,
   "id": "3405634a",
   "metadata": {},
   "outputs": [
    {
     "data": {
      "text/plain": [
       "{'a',\n",
       " 'about',\n",
       " 'above',\n",
       " 'after',\n",
       " 'again',\n",
       " 'against',\n",
       " 'ain',\n",
       " 'all',\n",
       " 'am',\n",
       " 'an',\n",
       " 'and',\n",
       " 'any',\n",
       " 'are',\n",
       " 'aren',\n",
       " \"aren't\",\n",
       " 'as',\n",
       " 'at',\n",
       " 'be',\n",
       " 'because',\n",
       " 'been',\n",
       " 'before',\n",
       " 'being',\n",
       " 'below',\n",
       " 'between',\n",
       " 'both',\n",
       " 'but',\n",
       " 'by',\n",
       " 'can',\n",
       " 'couldn',\n",
       " \"couldn't\",\n",
       " 'd',\n",
       " 'did',\n",
       " 'didn',\n",
       " \"didn't\",\n",
       " 'do',\n",
       " 'does',\n",
       " 'doesn',\n",
       " \"doesn't\",\n",
       " 'doing',\n",
       " 'don',\n",
       " \"don't\",\n",
       " 'down',\n",
       " 'during',\n",
       " 'each',\n",
       " 'few',\n",
       " 'for',\n",
       " 'from',\n",
       " 'further',\n",
       " 'had',\n",
       " 'hadn',\n",
       " \"hadn't\",\n",
       " 'has',\n",
       " 'hasn',\n",
       " \"hasn't\",\n",
       " 'have',\n",
       " 'haven',\n",
       " \"haven't\",\n",
       " 'having',\n",
       " 'he',\n",
       " \"he'd\",\n",
       " \"he'll\",\n",
       " \"he's\",\n",
       " 'her',\n",
       " 'here',\n",
       " 'hers',\n",
       " 'herself',\n",
       " 'him',\n",
       " 'himself',\n",
       " 'his',\n",
       " 'how',\n",
       " 'i',\n",
       " \"i'd\",\n",
       " \"i'll\",\n",
       " \"i'm\",\n",
       " \"i've\",\n",
       " 'if',\n",
       " 'in',\n",
       " 'into',\n",
       " 'is',\n",
       " 'isn',\n",
       " \"isn't\",\n",
       " 'it',\n",
       " \"it'd\",\n",
       " \"it'll\",\n",
       " \"it's\",\n",
       " 'its',\n",
       " 'itself',\n",
       " 'just',\n",
       " 'll',\n",
       " 'm',\n",
       " 'ma',\n",
       " 'me',\n",
       " 'mightn',\n",
       " \"mightn't\",\n",
       " 'more',\n",
       " 'most',\n",
       " 'mustn',\n",
       " \"mustn't\",\n",
       " 'my',\n",
       " 'myself',\n",
       " 'needn',\n",
       " \"needn't\",\n",
       " 'no',\n",
       " 'nor',\n",
       " 'not',\n",
       " 'now',\n",
       " 'o',\n",
       " 'of',\n",
       " 'off',\n",
       " 'on',\n",
       " 'once',\n",
       " 'only',\n",
       " 'or',\n",
       " 'other',\n",
       " 'our',\n",
       " 'ours',\n",
       " 'ourselves',\n",
       " 'out',\n",
       " 'over',\n",
       " 'own',\n",
       " 're',\n",
       " 's',\n",
       " 'same',\n",
       " 'shan',\n",
       " \"shan't\",\n",
       " 'she',\n",
       " \"she'd\",\n",
       " \"she'll\",\n",
       " \"she's\",\n",
       " 'should',\n",
       " \"should've\",\n",
       " 'shouldn',\n",
       " \"shouldn't\",\n",
       " 'so',\n",
       " 'some',\n",
       " 'such',\n",
       " 't',\n",
       " 'than',\n",
       " 'that',\n",
       " \"that'll\",\n",
       " 'the',\n",
       " 'their',\n",
       " 'theirs',\n",
       " 'them',\n",
       " 'themselves',\n",
       " 'then',\n",
       " 'there',\n",
       " 'these',\n",
       " 'they',\n",
       " \"they'd\",\n",
       " \"they'll\",\n",
       " \"they're\",\n",
       " \"they've\",\n",
       " 'this',\n",
       " 'those',\n",
       " 'through',\n",
       " 'to',\n",
       " 'too',\n",
       " 'under',\n",
       " 'until',\n",
       " 'up',\n",
       " 've',\n",
       " 'very',\n",
       " 'was',\n",
       " 'wasn',\n",
       " \"wasn't\",\n",
       " 'we',\n",
       " \"we'd\",\n",
       " \"we'll\",\n",
       " \"we're\",\n",
       " \"we've\",\n",
       " 'were',\n",
       " 'weren',\n",
       " \"weren't\",\n",
       " 'what',\n",
       " 'when',\n",
       " 'where',\n",
       " 'which',\n",
       " 'while',\n",
       " 'who',\n",
       " 'whom',\n",
       " 'why',\n",
       " 'will',\n",
       " 'with',\n",
       " 'won',\n",
       " \"won't\",\n",
       " 'wouldn',\n",
       " \"wouldn't\",\n",
       " 'y',\n",
       " 'you',\n",
       " \"you'd\",\n",
       " \"you'll\",\n",
       " \"you're\",\n",
       " \"you've\",\n",
       " 'your',\n",
       " 'yours',\n",
       " 'yourself',\n",
       " 'yourselves'}"
      ]
     },
     "execution_count": 21,
     "metadata": {},
     "output_type": "execute_result"
    }
   ],
   "source": [
    "stop_words = set(stopwords.words('english'))\n",
    "stop_words"
   ]
  },
  {
   "cell_type": "code",
   "execution_count": 22,
   "id": "fa5eb602",
   "metadata": {},
   "outputs": [],
   "source": [
    "def preprocess_text(text):\n",
    "    \"\"\"\n",
    "    Cleans and preprocesses a single text string.\n",
    "    1. Removes HTML tags\n",
    "    2. Lowercases text\n",
    "    3. Removes punctuation and numbers\n",
    "    4. Tokenizes text\n",
    "    5. Removes stop words\n",
    "    6. Lemmatizes words\n",
    "    \"\"\"\n",
    "    text = re.sub(r'<.*?>', '', text)\n",
    "    text = text.lower()\n",
    "    text = re.sub(r'[^a-z\\s]', '', text)\n",
    "    tokens = word_tokenize(text)\n",
    "    tokens = [word for word in tokens if word not in stop_words]\n",
    "    \n",
    "    # Lemmatization is often better than stemming\n",
    "    text = ' '.join(tokens)\n",
    "    doc = nlp(text)\n",
    "    lemmatized_tokens = [token.lemma_ for token in doc]\n",
    "    \n",
    "    return ' '.join(lemmatized_tokens)"
   ]
  },
  {
   "cell_type": "code",
   "execution_count": 25,
   "id": "6acf68b0",
   "metadata": {},
   "outputs": [
    {
     "name": "stdout",
     "output_type": "stream",
     "text": [
      "preproccesing all data take time\n",
      "/n compare original vs cleaned\n"
     ]
    },
    {
     "data": {
      "text/html": [
       "<div>\n",
       "<style scoped>\n",
       "    .dataframe tbody tr th:only-of-type {\n",
       "        vertical-align: middle;\n",
       "    }\n",
       "\n",
       "    .dataframe tbody tr th {\n",
       "        vertical-align: top;\n",
       "    }\n",
       "\n",
       "    .dataframe thead th {\n",
       "        text-align: right;\n",
       "    }\n",
       "</style>\n",
       "<table border=\"1\" class=\"dataframe\">\n",
       "  <thead>\n",
       "    <tr style=\"text-align: right;\">\n",
       "      <th></th>\n",
       "      <th>review</th>\n",
       "      <th>cleaned_review</th>\n",
       "    </tr>\n",
       "  </thead>\n",
       "  <tbody>\n",
       "    <tr>\n",
       "      <th>9475</th>\n",
       "      <td>The book was one of Stephen King's best. The movie was pure rubbish. It was painful to remain in the theater until the ending, which wasn't even the same as the book. I guess that this is the result when you try to cram 10 pages of story into every minute. There is no good reason to watch this movie.</td>\n",
       "      <td>book one stephen king good movie pure rubbish painful remain theater ending be not even book guess result try cram page story every minute good reason watch movie</td>\n",
       "    </tr>\n",
       "    <tr>\n",
       "      <th>31765</th>\n",
       "      <td>This movie blows you off your feet. This debut movie from Tom Barman (known from the Belgian rock band dEUS) introduces you to 8 intriguing people, building blocks of a compelling movie mosaic. They each survive one day and one night in the metropole of Antwerp. Barman paints his characters with great deal of verve and competently interweaves their individual stories, a tour the force that reminds of the best work of Robert Altman and Paul Thomas Anderson. The patchwork of anecdotes surprises, moves, amuses; the dialogues are so natural, they seem to be improvised. Some great performances by Matthias Schoenaerts, Natali Broods and the extremely funny duo from Ghent, Jonas Boel and Titus De Voogdt. Sam Louwyck is the memorable \"Windman\", a bizarre guy dancing throughout the movie. Sam is also responsible for the stunning choreography, and of course Tom Barman himself took care of the ultra cool Sound Track. We were seriously impressed: Any Way The Wind Blows is a movie that blows you off your feet.</td>\n",
       "      <td>movie blow foot debut movie tom barman know belgian rock band deus introduce intriguing people build block compelling movie mosaic survive one day one night metropole antwerp barman paint character great deal verve competently interweave individual story tour force remind good work robert altman paul thomas anderson patchwork anecdotes surprise move amuse dialogue natural seem improvise great performance matthia schoenaert natali brood extremely funny duo ghent jonas boel titus de voogdt sam louwyck memorable windman bizarre guy dance throughout movie sam also responsible stunning choreography course tom barman take care ultra cool sound track seriously impress way wind blow movie blow foot</td>\n",
       "    </tr>\n",
       "    <tr>\n",
       "      <th>49588</th>\n",
       "      <td>Another French film with absurdity. Baise-Moi(F*ck Me) tells the story of two young women who come together to kill and f*ck. One of them is a porn star who escapes from her community after being raped and killing her boyfriend. Second one is a hooker who kills her flatmate and sees her boyfriend being shot dead. After those incidents they meet at a tube station(both misses the last train)then the whole thing starts. They find a bound and come very close. They abuse men sexually, take drugs, drive around the country and have lots of sex. Thats all about Baise-Moi really. We can see that they have no mercy for their victims. They even kill a woman for her money. Both actresses are real porn stars in France that affects the movie in two different ways. They look so comfortable in sex scenes, nonetheless, they can't make the whole film worth watching as ,to me, the film does not require no further ability of acting than that. It is a version of Thelma and Louise on a different level. I could recommend you loads of things to do instead of watching Baise-Moi. So, bother to watch if you wanna see a pointless, kinky film. * out of *****</td>\n",
       "      <td>another french film absurdity baisemoifck tell story two young woman come together kill fck one porn star escape community rape kill boyfriend second one hooker kill flatmate see boyfriend shoot dead incident meet tube stationboth miss last trainthen whole thing start find bind come close abuse man sexually take drug drive around country lot sex that s baisemoi really see mercy victim even kill woman money actresse real porn star france affect movie two different way look comfortable sex scene nonetheless can not make whole film worth watch film require ability acting version thelma louise different level could recommend load thing instead watch baisemoi bother watch wan na see pointless kinky film</td>\n",
       "    </tr>\n",
       "    <tr>\n",
       "      <th>40707</th>\n",
       "      <td>***SPOILERS*** ***SPOILERS*** After two so-so outings (\"Magnum Force\" and \"The Enforcer\"), Dirty Harry seems to have regained his stride in \"Sudden Impact,\" a gripping thriller that wisely plays to its strengths: the charisma of Clint Eastwood, who also directed, and a story that spends just enough time on exposition and reserves its energy for the big scenes.&lt;br /&gt;&lt;br /&gt;For once, the case takes Harry outside his native San Francisco (where he's again in trouble with his superiors for his \"shoot first, ask questions later\" tactics), to the hamlet of San Paulo. There, (WARNING: Potential spoiler) a group of lowlifes is being gruesomely murdered, one at a time, by a woman whom they gang-raped years earlier, and whose sister has been in a state of catatonia ever since the attack.&lt;br /&gt;&lt;br /&gt;The killer is portrayed by Sondra Locke, and she makes the character of Jennifer Spencer an interesting mix of compassion and cold-bloodedness. Locke's cold eyes and frosty voice, when either trying to comfort her hospitalized sister or dispensing vengeance toward the rapists, are very effective in painting a portrait of a woman wronged whose years of suffering and rage are now beginning to bear deadly fruit.&lt;br /&gt;&lt;br /&gt;The rapists are a despicable lot, especially the leader, who has \"psycho nutjob\" practically stamped on his forehead, and a lesbian who seems almost one of the guys, despite her anatomical inability to participate. The flashback scenes, while not graphically explicit, are nightmarish enough, and clearly intended to make the audience cheer for Jennifer as she kills her assailants.&lt;br /&gt;&lt;br /&gt;Some will dismiss \"Sudden Impact\" as trash: a mindless, manipulative revenge tale. On a certain level this is true, but it's well-done trash. What works to the movie's advantage is the strength of the Sondra Locke performance, giving us a complex character whose wounds are more visible in her paintings than in her gestures or speech. What we have here is an action movie with a point of view.&lt;br /&gt;&lt;br /&gt;You can take or leave the idea that some wrongs deserve to be punished by any means necessary, but as the mystery behind the slayings becomes clear to Harry (a realization that, wisely, is not spelled out with dialogue), he is presented with a choice -- what to do about a killer whose motivations he can sympathize with but whose conduct he is bound by law to not tolerate. This makes the story more interesting than the usual Dirty Harry fare.&lt;br /&gt;&lt;br /&gt;The movie's other redeeming quality is Eastwood's direction. This is, after all, a Dirty Harry movie, and Eastwood knows the character better than anyone else. The movie is directed with style and wit, and edited to give the action scenes a big payoff. Some of the best \"Harry moments\" in the entire series are here, including Harry's best-known line, \"Go ahead -- make my day.\"&lt;br /&gt;&lt;br /&gt;\"Sudden Impact\" is a movie that has the courage of its convictions in presenting a tale about a despicable crime and the brutal consequences that follow. It is also a riveting detective story, well made and well told. And it is certainly never dull. On those criteria, it succeeds tremendously.</td>\n",
       "      <td>spoiler spoiler two soso outing magnum force enforcer dirty harry seem regain stride sudden impact grip thriller wisely play strength charisma clint eastwood also direct story spend enough time exposition reserve energy big scenesfor case take harry outside native san francisco he s trouble superior shoot first ask question late tactic hamlet san paulo warn potential spoiler group lowlife gruesomely murder one time woman gangrape year early whose sister state catatonia ever since attackthe killer portray sondra locke make character jennifer spencer interesting mix compassion coldbloodedness locke cold eye frosty voice either try comfort hospitalize sister dispense vengeance toward rapist effective paint portrait woman wrong whose year suffer rage beginning bear deadly fruitthe rapist despicable lot especially leader psycho nutjob practically stamp forehead lesbian seem almost one guy despite anatomical inability participate flashback scene graphically explicit nightmarish enough clearly intend make audience cheer jennifer kill assailantssome dismiss sudden impact trash mindless manipulative revenge tale certain level true welldone trash work movie advantage strength sondra locke performance give we complex character whose wound visible painting gesture speech action movie point viewyou take leave idea wrong deserve punish mean necessary mystery behind slaying become clear harry realization wisely spell dialogue present choice killer whose motivation sympathize whose conduct bind law tolerate make story interesting usual dirty harry farethe movie redeem quality eastwood direction dirty harry movie eastwood know character well anyone else movie direct style wit edit give action scene big payoff good harry moment entire series include harry bestknown line go ahead make daysudden impact movie courage conviction present tale despicable crime brutal consequence follow also rivet detective story well make well tell certainly never dull criterion succeed tremendously</td>\n",
       "    </tr>\n",
       "    <tr>\n",
       "      <th>49450</th>\n",
       "      <td>I sort of accidentally ended up watching this movie. I'm still not sure if I regret it or not. I felt like I was watching the film made by that group of film school students that didn't quite make the cut. It plays up every Hollywood cliché imaginable, all the while flogging us with the 'corporations are the ultimate evil' message. Subtlety this movie does not know. As far as that goes, it even manages to provide it's own spoilers.&lt;br /&gt;&lt;br /&gt;The story appears to be a computer nerd's fantasy world come true. The lead character is an attractive teenage boy with a girlfriend, yet is a programming genius and apparent hacker (I think), among many other nerd-fantasy-come-true elements that you'll have to see for yourself.&lt;br /&gt;&lt;br /&gt;As well, I should've known it would be a z-movie when I saw Ned Bellamy... he tends to be a good tip-off.&lt;br /&gt;&lt;br /&gt;Can't recommend this one, I'm afraid.</td>\n",
       "      <td>sort accidentally end watch movie I m still sure regret feel like watch film make group film school student do not quite make cut play every hollywood clich imaginable flog we corporation ultimate evil message subtlety movie know far go even manage provide spoilersthe story appear computer nerd fantasy world come true lead character attractive teenage boy girlfriend yet program genius apparent hacker think among many nerdfantasycometrue element you ll see yourselfas well should ve know would zmovie see ne bellamy tend good tipoffcant recommend one I m afraid</td>\n",
       "    </tr>\n",
       "  </tbody>\n",
       "</table>\n",
       "</div>"
      ],
      "text/plain": [
       "                                                                                                                                                                                                                                                                                                                                                                                                                                                                                                                                                                                                                                                                                                                                                                                                                                                                                                                                                                                                                                                                                                                                                                                                                                                                                                                                                                                                                                                                                                                                                                                                                                                                                                                                                                                                                                                                                                                                                                                                                                                                                                                                                                                                                                                                                                                                                                                                                                                                                                                                                                                                                                                                                                                                                                                                                                                                                                                                                                                                                                                                                                                                                                                                                                                                                             review  \\\n",
       "9475                                                                                                                                                                                                                                                                                                                                                                                                                                                                                                                                                                                                                                                                                                                                                                                                                                                                                                                                                                                                                                                                                                                                                                                                                                                                                                                                                                                                                                                                                                                                                                                                                                                                                                                                                                                                                                                                                                                                                                                                                                                                                                                                                                                                                                                                                                                                                                                                                                                                                                                                                                                                                                                                                                                                                                                                                                                                                                                                                                                  The book was one of Stephen King's best. The movie was pure rubbish. It was painful to remain in the theater until the ending, which wasn't even the same as the book. I guess that this is the result when you try to cram 10 pages of story into every minute. There is no good reason to watch this movie.   \n",
       "31765                                                                                                                                                                                                                                                                                                                                                                                                                                                                                                                                                                                                                                                                                                                                                                                                                                                                                                                                                                                                                                                                                                                                                                                                                                                                                                                                                                                                                                                                                                                                                                                                                                                                                                                                                                                                                                                                                                                                                                                                                                                                                                                                                                                                                                          This movie blows you off your feet. This debut movie from Tom Barman (known from the Belgian rock band dEUS) introduces you to 8 intriguing people, building blocks of a compelling movie mosaic. They each survive one day and one night in the metropole of Antwerp. Barman paints his characters with great deal of verve and competently interweaves their individual stories, a tour the force that reminds of the best work of Robert Altman and Paul Thomas Anderson. The patchwork of anecdotes surprises, moves, amuses; the dialogues are so natural, they seem to be improvised. Some great performances by Matthias Schoenaerts, Natali Broods and the extremely funny duo from Ghent, Jonas Boel and Titus De Voogdt. Sam Louwyck is the memorable \"Windman\", a bizarre guy dancing throughout the movie. Sam is also responsible for the stunning choreography, and of course Tom Barman himself took care of the ultra cool Sound Track. We were seriously impressed: Any Way The Wind Blows is a movie that blows you off your feet.   \n",
       "49588                                                                                                                                                                                                                                                                                                                                                                                                                                                                                                                                                                                                                                                                                                                                                                                                                                                                                                                                                                                                                                                                                                                                                                                                                                                                                                                                                                                                                                                                                                                                                                                                                                                                                                                                                                                                                                                                                                                                                                                                                                                                                                   Another French film with absurdity. Baise-Moi(F*ck Me) tells the story of two young women who come together to kill and f*ck. One of them is a porn star who escapes from her community after being raped and killing her boyfriend. Second one is a hooker who kills her flatmate and sees her boyfriend being shot dead. After those incidents they meet at a tube station(both misses the last train)then the whole thing starts. They find a bound and come very close. They abuse men sexually, take drugs, drive around the country and have lots of sex. Thats all about Baise-Moi really. We can see that they have no mercy for their victims. They even kill a woman for her money. Both actresses are real porn stars in France that affects the movie in two different ways. They look so comfortable in sex scenes, nonetheless, they can't make the whole film worth watching as ,to me, the film does not require no further ability of acting than that. It is a version of Thelma and Louise on a different level. I could recommend you loads of things to do instead of watching Baise-Moi. So, bother to watch if you wanna see a pointless, kinky film. * out of *****   \n",
       "40707  ***SPOILERS*** ***SPOILERS*** After two so-so outings (\"Magnum Force\" and \"The Enforcer\"), Dirty Harry seems to have regained his stride in \"Sudden Impact,\" a gripping thriller that wisely plays to its strengths: the charisma of Clint Eastwood, who also directed, and a story that spends just enough time on exposition and reserves its energy for the big scenes.<br /><br />For once, the case takes Harry outside his native San Francisco (where he's again in trouble with his superiors for his \"shoot first, ask questions later\" tactics), to the hamlet of San Paulo. There, (WARNING: Potential spoiler) a group of lowlifes is being gruesomely murdered, one at a time, by a woman whom they gang-raped years earlier, and whose sister has been in a state of catatonia ever since the attack.<br /><br />The killer is portrayed by Sondra Locke, and she makes the character of Jennifer Spencer an interesting mix of compassion and cold-bloodedness. Locke's cold eyes and frosty voice, when either trying to comfort her hospitalized sister or dispensing vengeance toward the rapists, are very effective in painting a portrait of a woman wronged whose years of suffering and rage are now beginning to bear deadly fruit.<br /><br />The rapists are a despicable lot, especially the leader, who has \"psycho nutjob\" practically stamped on his forehead, and a lesbian who seems almost one of the guys, despite her anatomical inability to participate. The flashback scenes, while not graphically explicit, are nightmarish enough, and clearly intended to make the audience cheer for Jennifer as she kills her assailants.<br /><br />Some will dismiss \"Sudden Impact\" as trash: a mindless, manipulative revenge tale. On a certain level this is true, but it's well-done trash. What works to the movie's advantage is the strength of the Sondra Locke performance, giving us a complex character whose wounds are more visible in her paintings than in her gestures or speech. What we have here is an action movie with a point of view.<br /><br />You can take or leave the idea that some wrongs deserve to be punished by any means necessary, but as the mystery behind the slayings becomes clear to Harry (a realization that, wisely, is not spelled out with dialogue), he is presented with a choice -- what to do about a killer whose motivations he can sympathize with but whose conduct he is bound by law to not tolerate. This makes the story more interesting than the usual Dirty Harry fare.<br /><br />The movie's other redeeming quality is Eastwood's direction. This is, after all, a Dirty Harry movie, and Eastwood knows the character better than anyone else. The movie is directed with style and wit, and edited to give the action scenes a big payoff. Some of the best \"Harry moments\" in the entire series are here, including Harry's best-known line, \"Go ahead -- make my day.\"<br /><br />\"Sudden Impact\" is a movie that has the courage of its convictions in presenting a tale about a despicable crime and the brutal consequences that follow. It is also a riveting detective story, well made and well told. And it is certainly never dull. On those criteria, it succeeds tremendously.   \n",
       "49450                                                                                                                                                                                                                                                                                                                                                                                                                                                                                                                                                                                                                                                                                                                                                                                                                                                                                                                                                                                                                                                                                                                                                                                                                                                                                                                                                                                                                                                                                                                                                                                                                                                                                                                                                                                                                                                                                                                                                                                                                                                                                                                                                                                                                                                                                                                                                                  I sort of accidentally ended up watching this movie. I'm still not sure if I regret it or not. I felt like I was watching the film made by that group of film school students that didn't quite make the cut. It plays up every Hollywood cliché imaginable, all the while flogging us with the 'corporations are the ultimate evil' message. Subtlety this movie does not know. As far as that goes, it even manages to provide it's own spoilers.<br /><br />The story appears to be a computer nerd's fantasy world come true. The lead character is an attractive teenage boy with a girlfriend, yet is a programming genius and apparent hacker (I think), among many other nerd-fantasy-come-true elements that you'll have to see for yourself.<br /><br />As well, I should've known it would be a z-movie when I saw Ned Bellamy... he tends to be a good tip-off.<br /><br />Can't recommend this one, I'm afraid.   \n",
       "\n",
       "                                                                                                                                                                                                                                                                                                                                                                                                                                                                                                                                                                                                                                                                                                                                                                                                                                                                                                                                                                                                                                                                                                                                                                                                                                                                                                                                                                                                                                                                                                                                                                                                                                                                                                                                                                                                                                                                                                                                                                                                                                                                  cleaned_review  \n",
       "9475                                                                                                                                                                                                                                                                                                                                                                                                                                                                                                                                                                                                                                                                                                                                                                                                                                                                                                                                                                                                                                                                                                                                                                                                                                                                                                                                                                                                                                                                                                                                                                                                                                                                                                                                                                                                                                                                                                          book one stephen king good movie pure rubbish painful remain theater ending be not even book guess result try cram page story every minute good reason watch movie  \n",
       "31765                                                                                                                                                                                                                                                                                                                                                                                                                                                                                                                                                                                                                                                                                                                                                                                                                                                                                                                                                                                                                                                                                                                                                                                                                                                                                                                                                movie blow foot debut movie tom barman know belgian rock band deus introduce intriguing people build block compelling movie mosaic survive one day one night metropole antwerp barman paint character great deal verve competently interweave individual story tour force remind good work robert altman paul thomas anderson patchwork anecdotes surprise move amuse dialogue natural seem improvise great performance matthia schoenaert natali brood extremely funny duo ghent jonas boel titus de voogdt sam louwyck memorable windman bizarre guy dance throughout movie sam also responsible stunning choreography course tom barman take care ultra cool sound track seriously impress way wind blow movie blow foot  \n",
       "49588                                                                                                                                                                                                                                                                                                                                                                                                                                                                                                                                                                                                                                                                                                                                                                                                                                                                                                                                                                                                                                                                                                                                                                                                                                                                                                                                        another french film absurdity baisemoifck tell story two young woman come together kill fck one porn star escape community rape kill boyfriend second one hooker kill flatmate see boyfriend shoot dead incident meet tube stationboth miss last trainthen whole thing start find bind come close abuse man sexually take drug drive around country lot sex that s baisemoi really see mercy victim even kill woman money actresse real porn star france affect movie two different way look comfortable sex scene nonetheless can not make whole film worth watch film require ability acting version thelma louise different level could recommend load thing instead watch baisemoi bother watch wan na see pointless kinky film  \n",
       "40707  spoiler spoiler two soso outing magnum force enforcer dirty harry seem regain stride sudden impact grip thriller wisely play strength charisma clint eastwood also direct story spend enough time exposition reserve energy big scenesfor case take harry outside native san francisco he s trouble superior shoot first ask question late tactic hamlet san paulo warn potential spoiler group lowlife gruesomely murder one time woman gangrape year early whose sister state catatonia ever since attackthe killer portray sondra locke make character jennifer spencer interesting mix compassion coldbloodedness locke cold eye frosty voice either try comfort hospitalize sister dispense vengeance toward rapist effective paint portrait woman wrong whose year suffer rage beginning bear deadly fruitthe rapist despicable lot especially leader psycho nutjob practically stamp forehead lesbian seem almost one guy despite anatomical inability participate flashback scene graphically explicit nightmarish enough clearly intend make audience cheer jennifer kill assailantssome dismiss sudden impact trash mindless manipulative revenge tale certain level true welldone trash work movie advantage strength sondra locke performance give we complex character whose wound visible painting gesture speech action movie point viewyou take leave idea wrong deserve punish mean necessary mystery behind slaying become clear harry realization wisely spell dialogue present choice killer whose motivation sympathize whose conduct bind law tolerate make story interesting usual dirty harry farethe movie redeem quality eastwood direction dirty harry movie eastwood know character well anyone else movie direct style wit edit give action scene big payoff good harry moment entire series include harry bestknown line go ahead make daysudden impact movie courage conviction present tale despicable crime brutal consequence follow also rivet detective story well make well tell certainly never dull criterion succeed tremendously  \n",
       "49450                                                                                                                                                                                                                                                                                                                                                                                                                                                                                                                                                                                                                                                                                                                                                                                                                                                                                                                                                                                                                                                                                                                                                                                                                                                                                                                                                                                                                                                                                       sort accidentally end watch movie I m still sure regret feel like watch film make group film school student do not quite make cut play every hollywood clich imaginable flog we corporation ultimate evil message subtlety movie know far go even manage provide spoilersthe story appear computer nerd fantasy world come true lead character attractive teenage boy girlfriend yet program genius apparent hacker think among many nerdfantasycometrue element you ll see yourselfas well should ve know would zmovie see ne bellamy tend good tipoffcant recommend one I m afraid  "
      ]
     },
     "metadata": {},
     "output_type": "display_data"
    }
   ],
   "source": [
    "print(\"preproccesing all data take time\")   \n",
    "df = df.sample(500).copy()  \n",
    "df['cleaned_review'] = df['review'].apply(preprocess_text)  \n",
    "print(\"/n compare original vs cleaned\") \n",
    "display(df[['review','cleaned_review']].head())"
   ]
  },
  {
   "cell_type": "code",
   "execution_count": 30,
   "id": "be2247b6",
   "metadata": {},
   "outputs": [
    {
     "name": "stdout",
     "output_type": "stream",
     "text": [
      "Training set size: 400\n",
      "Testing set size: 100\n"
     ]
    }
   ],
   "source": [
    "from sklearn.model_selection import train_test_split\n",
    "\n",
    "# Map sentiment labels to 0 and 1\n",
    "df['sentiment_numeric'] = df['sentiment'].map({'positive': 1, 'negative': 0})\n",
    "\n",
    "# Define our features (X) and target (y)\n",
    "X = df['cleaned_review']\n",
    "y = df['sentiment_numeric']\n",
    "\n",
    "# Split the data into training and testing sets (80% train, 20% test)\n",
    "# stratify=y ensures the train/test split has the same proportion of sentiments as the original dataset\n",
    "X_train, X_test, y_train, y_test = train_test_split(X, y, test_size=0.2, random_state=42, stratify=y)\n",
    "\n",
    "print(f\"Training set size: {len(X_train)}\")\n",
    "print(f\"Testing set size: {len(X_test)}\")"
   ]
  },
  {
   "cell_type": "code",
   "execution_count": 32,
   "id": "affbea4d",
   "metadata": {},
   "outputs": [
    {
     "name": "stdout",
     "output_type": "stream",
     "text": [
      "Shape of the training TF-IDF matrix: (400, 500)\n",
      "Shape of the testing TF-IDF matrix: (100, 500)\n"
     ]
    }
   ],
   "source": [
    "from sklearn.feature_extraction.text import TfidfVectorizer\n",
    "\n",
    "# Initialize the TF-IDF Vectorizer\n",
    "# max_features=5000 means we only use the 5000 most common words, which is efficient\n",
    "tfidf = TfidfVectorizer(max_features=500)\n",
    "\n",
    "# Fit the vectorizer on the training data and transform it\n",
    "X_train_tfidf = tfidf.fit_transform(X_train)\n",
    "\n",
    "# ONLY transform the test data using the already-fitted vectorizer\n",
    "X_test_tfidf = tfidf.transform(X_test)\n",
    "\n",
    "print(f\"Shape of the training TF-IDF matrix: {X_train_tfidf.shape}\")\n",
    "print(f\"Shape of the testing TF-IDF matrix: {X_test_tfidf.shape}\")"
   ]
  },
  {
   "cell_type": "code",
   "execution_count": 33,
   "id": "c97fc00c",
   "metadata": {},
   "outputs": [
    {
     "name": "stdout",
     "output_type": "stream",
     "text": [
      "Model training complete!\n"
     ]
    }
   ],
   "source": [
    "from sklearn.linear_model import LogisticRegression\n",
    "\n",
    "# Initialize and train the model\n",
    "# solver='liblinear' is a good choice for this type of problem\n",
    "model = LogisticRegression(solver='liblinear')\n",
    "model.fit(X_train_tfidf, y_train)\n",
    "\n",
    "print(\"Model training complete!\")"
   ]
  },
  {
   "cell_type": "code",
   "execution_count": 34,
   "id": "67e9d8c2",
   "metadata": {},
   "outputs": [
    {
     "name": "stdout",
     "output_type": "stream",
     "text": [
      "Review: 'This movie was absolutely fantastic! The acting was superb and the plot was gripping.'\n",
      "Predicted Sentiment: Negative\n",
      "\n",
      "Review: 'I was so bored throughout the entire film. It was a complete waste of time and money.'\n",
      "Predicted Sentiment: Negative\n",
      "\n",
      "Review: 'The film was okay, not great but not terrible either. Some parts were good.'\n",
      "Predicted Sentiment: Positive\n",
      "\n"
     ]
    }
   ],
   "source": [
    "def predict_sentiment(text):\n",
    "    \"\"\"\n",
    "    Takes a raw text string and predicts its sentiment using the trained model.\n",
    "    \"\"\"\n",
    "    # 1. Preprocess the text using the same function from Cell 2\n",
    "    cleaned_text = preprocess_text(text)\n",
    "    \n",
    "    # 2. Vectorize the text using the SAME fitted TF-IDF vectorizer from Cell 5\n",
    "    vectorized_text = tfidf.transform([cleaned_text])\n",
    "    \n",
    "    # 3. Predict using the trained model from Cell 6\n",
    "    prediction = model.predict(vectorized_text)\n",
    "    \n",
    "    # 4. Return the human-readable result\n",
    "    return 'Positive' if prediction[0] == 1 else 'Negative'\n",
    "\n",
    "# --- Test Cases ---\n",
    "review_1 = \"This movie was absolutely fantastic! The acting was superb and the plot was gripping.\"\n",
    "review_2 = \"I was so bored throughout the entire film. It was a complete waste of time and money.\"\n",
    "review_3 = \"The film was okay, not great but not terrible either. Some parts were good.\"\n",
    "\n",
    "print(f\"Review: '{review_1}'\\nPredicted Sentiment: {predict_sentiment(review_1)}\\n\")\n",
    "print(f\"Review: '{review_2}'\\nPredicted Sentiment: {predict_sentiment(review_2)}\\n\")\n",
    "print(f\"Review: '{review_3}'\\nPredicted Sentiment: {predict_sentiment(review_3)}\\n\")"
   ]
  }
 ],
 "metadata": {
  "kernelspec": {
   "display_name": "handson-nlp",
   "language": "python",
   "name": "python3"
  },
  "language_info": {
   "codemirror_mode": {
    "name": "ipython",
    "version": 3
   },
   "file_extension": ".py",
   "mimetype": "text/x-python",
   "name": "python",
   "nbconvert_exporter": "python",
   "pygments_lexer": "ipython3",
   "version": "3.10.12"
  }
 },
 "nbformat": 4,
 "nbformat_minor": 5
}
